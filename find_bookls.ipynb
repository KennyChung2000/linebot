{
 "cells": [
  {
   "cell_type": "markdown",
   "metadata": {},
   "source": [
    "# Load Json File & Parser \n",
    "- In this section, we'll practice how to load and parse a json file"
   ]
  },
  {
   "cell_type": "markdown",
   "metadata": {},
   "source": [
    "- 首先，載入json library"
   ]
  },
  {
   "cell_type": "code",
   "execution_count": 1,
   "metadata": {},
   "outputs": [],
   "source": [
    "import json"
   ]
  },
  {
   "cell_type": "markdown",
   "metadata": {},
   "source": [
    "- 讀入想要解析的json檔案\n",
    "> json.load used to load \"files\" or \"File-like\"  \n",
    "> json.loads used to load \"given string\" or \"unicode object\" "
   ]
  },
  {
   "cell_type": "code",
   "execution_count": 2,
   "metadata": {},
   "outputs": [],
   "source": [
    "with open(\"ESLITE.json\",'r') as load_f:\n",
    "    eslite_list = json.load(load_f)"
   ]
  },
  {
   "cell_type": "code",
   "execution_count": 9,
   "metadata": {},
   "outputs": [
    {
     "data": {
      "text/plain": [
       "dict_keys(['status', 'feed', 'items'])"
      ]
     },
     "execution_count": 9,
     "metadata": {},
     "output_type": "execute_result"
    }
   ],
   "source": [
    "eslite_list.keys()"
   ]
  },
  {
   "cell_type": "markdown",
   "metadata": {},
   "source": [
    "- 可以試著印出，現在存到便入裡面的東西\n",
    "- 可以看到的是，現在這支json檔的結構"
   ]
  },
  {
   "cell_type": "code",
   "execution_count": 3,
   "metadata": {},
   "outputs": [
    {
     "name": "stdout",
     "output_type": "stream",
     "text": [
      "{'status': 'ok', 'feed': {'url': 'http://www.eslite.com/rss.aspx?Cate=156&Rssdata=lowest', 'title': '誠品網路書店：中文書本日最低價', 'link': 'http://www.eslite.com/', 'author': '', 'description': '誠品網路書店：中文書本日最低價', 'image': 'http://pic.eslite.com/Upload/Product/201810/s/636753621529578750.jpg'}, 'items': [{'title': '新漢字世代: 亞洲字體設計新美學', 'pubDate': '2018-10-30 00:00:00', 'link': 'http://www.eslite.com/product.aspx?pgid=1001113882720073', 'guid': '1001113882720073', 'author': '', 'thumbnail': 'http://pic.eslite.com/Upload/Product/201810/s/636753621529578750.jpg', 'description': '\\n<img src=\"http://pic.eslite.com/Upload/Product/201810/s/636753621529578750.jpg\" width=\"90px\" height=\"120px\"><br><span class=\"price_sale\">75</span>折, \\n\\t\\t\\t\\t\\t    售價:465<br>\\n\\t\\t\\t\\t\\t    產品相關資訊:Sandu<br>\\n\\t\\t\\t\\t\\t\\t產品說明:<br>\\n', 'content': '\\n<img src=\"http://pic.eslite.com/Upload/Product/201810/s/636753621529578750.jpg\" width=\"90px\" height=\"120px\"><br><span class=\"price_sale\">75</span>折, \\n\\t\\t\\t\\t\\t    售價:465<br>\\n\\t\\t\\t\\t\\t    產品相關資訊:Sandu<br>\\n\\t\\t\\t\\t\\t\\t產品說明:<br>\\n', 'enclosure': {}, 'categories': ['Sandu']}, {'title': '全球最熱門思想家塔雷伯經典套書: 不確定五部曲 (5冊合售)', 'pubDate': '2018-10-30 00:00:00', 'link': 'http://www.eslite.com/product.aspx?pgid=1001129722720140', 'guid': '1001129722720140', 'author': '', 'thumbnail': 'http://pic.eslite.com/Upload/Product/201810/s/636754482614687500.jpg', 'description': '\\n<img src=\"http://pic.eslite.com/Upload/Product/201810/s/636754482614687500.jpg\" width=\"90px\" height=\"120px\"><br><span class=\"price_sale\">75</span>折, \\n\\t\\t\\t\\t\\t    售價:1500<br>\\n\\t\\t\\t\\t\\t    產品相關資訊:納西姆．尼可拉斯．塔雷伯<br>\\n\\t\\t\\t\\t\\t\\t產品說明:隨機騙局: 潛藏在生活與市場中的機率陷阱/ 黑天鵝效應/ 黑天鵝語錄: 隨機世界的生存指南, 未知事物的應對之道/ 反脆弱: 脆弱的反義詞不是堅強, 是反脆弱/ 不對稱陷阱: 當別人的風險變成你的#<br>\\n', 'content': '\\n<img src=\"http://pic.eslite.com/Upload/Product/201810/s/636754482614687500.jpg\" width=\"90px\" height=\"120px\"><br><span class=\"price_sale\">75</span>折, \\n\\t\\t\\t\\t\\t    售價:1500<br>\\n\\t\\t\\t\\t\\t    產品相關資訊:納西姆．尼可拉斯．塔雷伯<br>\\n\\t\\t\\t\\t\\t\\t產品說明:隨機騙局: 潛藏在生活與市場中的機率陷阱/ 黑天鵝效應/ 黑天鵝語錄: 隨機世界的生存指南, 未知事物的應對之道/ 反脆弱: 脆弱的反義詞不是堅強, 是反脆弱/ 不對稱陷阱: 當別人的風險變成你的#<br>\\n', 'enclosure': {}, 'categories': ['納西姆．尼可拉斯．塔雷伯']}, {'title': '王鼎鈞的作文經典雙書: 作文七巧+作文十九問 (2冊合售)', 'pubDate': '2018-10-30 00:00:00', 'link': 'http://www.eslite.com/product.aspx?pgid=1001128312718850', 'guid': '1001128312718850', 'author': '', 'thumbnail': 'http://pic.eslite.com/Upload/Product/201810/s/636749298799738750.jpg', 'description': '\\n<img src=\"http://pic.eslite.com/Upload/Product/201810/s/636749298799738750.jpg\" width=\"90px\" height=\"120px\"><br><span class=\"price_sale\">75</span>折, \\n\\t\\t\\t\\t\\t    售價:555<br>\\n\\t\\t\\t\\t\\t    產品相關資訊:王鼎鈞<br>\\n\\t\\t\\t\\t\\t\\t產品說明:<br>\\n', 'content': '\\n<img src=\"http://pic.eslite.com/Upload/Product/201810/s/636749298799738750.jpg\" width=\"90px\" height=\"120px\"><br><span class=\"price_sale\">75</span>折, \\n\\t\\t\\t\\t\\t    售價:555<br>\\n\\t\\t\\t\\t\\t    產品相關資訊:王鼎鈞<br>\\n\\t\\t\\t\\t\\t\\t產品說明:<br>\\n', 'enclosure': {}, 'categories': ['王鼎鈞']}, {'title': '并州迷霧+風雪邊關 (2冊合售)', 'pubDate': '2018-10-30 00:00:00', 'link': 'http://www.eslite.com/product.aspx?pgid=1001131182718806', 'guid': '1001131182718806', 'author': '', 'thumbnail': 'http://pic.eslite.com/Upload/Product/201810/s/636749298602863750.jpg', 'description': '\\n<img src=\"http://pic.eslite.com/Upload/Product/201810/s/636749298602863750.jpg\" width=\"90px\" height=\"120px\"><br><span class=\"price_sale\">75</span>折, \\n\\t\\t\\t\\t\\t    售價:555<br>\\n\\t\\t\\t\\t\\t    產品相關資訊:唐隱<br>\\n\\t\\t\\t\\t\\t\\t產品說明:<br>\\n', 'content': '\\n<img src=\"http://pic.eslite.com/Upload/Product/201810/s/636749298602863750.jpg\" width=\"90px\" height=\"120px\"><br><span class=\"price_sale\">75</span>折, \\n\\t\\t\\t\\t\\t    售價:555<br>\\n\\t\\t\\t\\t\\t    產品相關資訊:唐隱<br>\\n\\t\\t\\t\\t\\t\\t產品說明:<br>\\n', 'enclosure': {}, 'categories': ['唐隱']}, {'title': '穿越時空的英國生活史: 漫遊中古英格蘭+漫遊伊莉莎白女皇的英格蘭+漫遊十七世紀古英國 (3冊合售)', 'pubDate': '2018-10-30 00:00:00', 'link': 'http://www.eslite.com/product.aspx?pgid=1001110932715980', 'guid': '1001110932715980', 'author': '', 'thumbnail': 'http://pic.eslite.com/Upload/Product/201809/s/636737205117166250.jpg', 'description': '\\n<img src=\"http://pic.eslite.com/Upload/Product/201809/s/636737205117166250.jpg\" width=\"90px\" height=\"120px\"><br><span class=\"price_sale\">7</span>折, \\n\\t\\t\\t\\t\\t    售價:1176<br>\\n\\t\\t\\t\\t\\t    產品相關資訊:伊恩．莫蒂默<br>\\n\\t\\t\\t\\t\\t\\t產品說明:<br>\\n', 'content': '\\n<img src=\"http://pic.eslite.com/Upload/Product/201809/s/636737205117166250.jpg\" width=\"90px\" height=\"120px\"><br><span class=\"price_sale\">7</span>折, \\n\\t\\t\\t\\t\\t    售價:1176<br>\\n\\t\\t\\t\\t\\t    產品相關資訊:伊恩．莫蒂默<br>\\n\\t\\t\\t\\t\\t\\t產品說明:<br>\\n', 'enclosure': {}, 'categories': ['伊恩．莫蒂默']}, {'title': 'New全彩漫畫世界歷史 1-12+人物學習事典+世界遺產學習事典 (附New全彩世界歷史大事紀對照年表/14冊合售)', 'pubDate': '2018-10-30 00:00:00', 'link': 'http://www.eslite.com/product.aspx?pgid=1003258502715977', 'guid': '1003258502715977', 'author': '', 'thumbnail': 'http://pic.eslite.com/Upload/Product/201809/s/636737205087947500.jpg', 'description': '\\n<img src=\"http://pic.eslite.com/Upload/Product/201809/s/636737205087947500.jpg\" width=\"90px\" height=\"120px\"><br><span class=\"price_sale\">75</span>折, \\n\\t\\t\\t\\t\\t    售價:5025<br>\\n\\t\\t\\t\\t\\t    產品相關資訊:南房秀久/ 澤邊有司/ 原作; 近藤二郎/ 日本NPO法人世界遺產Academy/ 監修<br>\\n\\t\\t\\t\\t\\t\\t產品說明:New全彩漫畫世界歷史:史前時代與古代近東/希臘、羅馬與地中海世界/亞洲古代文明與東亞世界的建立/伊斯蘭世界與歐洲世界的建立/十字軍與蒙古帝國/文藝復興與大航海時代/法國大革命與工業革命/美國獨立與南北戰爭/列強的世界殖民與亞洲的民族運動<br>\\n', 'content': '\\n<img src=\"http://pic.eslite.com/Upload/Product/201809/s/636737205087947500.jpg\" width=\"90px\" height=\"120px\"><br><span class=\"price_sale\">75</span>折, \\n\\t\\t\\t\\t\\t    售價:5025<br>\\n\\t\\t\\t\\t\\t    產品相關資訊:南房秀久/ 澤邊有司/ 原作; 近藤二郎/ 日本NPO法人世界遺產Academy/ 監修<br>\\n\\t\\t\\t\\t\\t\\t產品說明:New全彩漫畫世界歷史:史前時代與古代近東/希臘、羅馬與地中海世界/亞洲古代文明與東亞世界的建立/伊斯蘭世界與歐洲世界的建立/十字軍與蒙古帝國/文藝復興與大航海時代/法國大革命與工業革命/美國獨立與南北戰爭/列強的世界殖民與亞洲的民族運動<br>\\n', 'enclosure': {}, 'categories': ['南房秀久/ 澤邊有司/ 原作; 近藤二郎/ 日本NPO法人世界遺產Academy/ 監修']}, {'title': '家事斷捨離: 第一本打破收納迷思、讓每個人都能不必特別花時間就做好家事的減法生活書!', 'pubDate': '2018-10-30 00:00:00', 'link': 'http://www.eslite.com/product.aspx?pgid=1001129562715840', 'guid': '1001129562715840', 'author': '', 'thumbnail': 'http://pic.eslite.com/Upload/Product/201809/s/636737203180760000.jpg', 'description': '\\n<img src=\"http://pic.eslite.com/Upload/Product/201809/s/636737203180760000.jpg\" width=\"90px\" height=\"120px\"><br><span class=\"price_sale\">75</span>折, \\n\\t\\t\\t\\t\\t    售價:240<br>\\n\\t\\t\\t\\t\\t    產品相關資訊:山下英子<br>\\n\\t\\t\\t\\t\\t\\t產品說明:<br>\\n', 'content': '\\n<img src=\"http://pic.eslite.com/Upload/Product/201809/s/636737203180760000.jpg\" width=\"90px\" height=\"120px\"><br><span class=\"price_sale\">75</span>折, \\n\\t\\t\\t\\t\\t    售價:240<br>\\n\\t\\t\\t\\t\\t    產品相關資訊:山下英子<br>\\n\\t\\t\\t\\t\\t\\t產品說明:<br>\\n', 'enclosure': {}, 'categories': ['山下英子']}, {'title': '張曼娟文學繪本系列 (3冊合售)', 'pubDate': '2018-10-30 00:00:00', 'link': 'http://www.eslite.com/product.aspx?pgid=1003276712715264', 'guid': '1003276712715264', 'author': '', 'thumbnail': 'http://pic.eslite.com/Upload/Product/201810/s/636759892974897500.jpg', 'description': '\\n<img src=\"http://pic.eslite.com/Upload/Product/201810/s/636759892974897500.jpg\" width=\"90px\" height=\"120px\"><br><span class=\"price_sale\">75</span>折, \\n\\t\\t\\t\\t\\t    售價:945<br>\\n\\t\\t\\t\\t\\t    產品相關資訊:張曼娟/ 孫梓評/ 張維中<br>\\n\\t\\t\\t\\t\\t\\t產品說明:星星碼頭/ 麒麟湯/ 碳酸男孩<br>\\n', 'content': '\\n<img src=\"http://pic.eslite.com/Upload/Product/201810/s/636759892974897500.jpg\" width=\"90px\" height=\"120px\"><br><span class=\"price_sale\">75</span>折, \\n\\t\\t\\t\\t\\t    售價:945<br>\\n\\t\\t\\t\\t\\t    產品相關資訊:張曼娟/ 孫梓評/ 張維中<br>\\n\\t\\t\\t\\t\\t\\t產品說明:星星碼頭/ 麒麟湯/ 碳酸男孩<br>\\n', 'enclosure': {}, 'categories': ['張曼娟/ 孫梓評/ 張維中']}, {'title': '安迪．威爾科幻套組 (2冊合售)', 'pubDate': '2018-10-30 00:00:00', 'link': 'http://www.eslite.com/product.aspx?pgid=1001119732713207', 'guid': '1001119732713207', 'author': '', 'thumbnail': 'http://pic.eslite.com/Upload/Product/201809/s/636725973643730000.jpg', 'description': '\\n<img src=\"http://pic.eslite.com/Upload/Product/201809/s/636725973643730000.jpg\" width=\"90px\" height=\"120px\"><br><span class=\"price_sale\">72</span>折, \\n\\t\\t\\t\\t\\t    售價:547<br>\\n\\t\\t\\t\\t\\t    產品相關資訊:安迪．威爾<br>\\n\\t\\t\\t\\t\\t\\t產品說明:火星任務+月球城市<br>\\n', 'content': '\\n<img src=\"http://pic.eslite.com/Upload/Product/201809/s/636725973643730000.jpg\" width=\"90px\" height=\"120px\"><br><span class=\"price_sale\">72</span>折, \\n\\t\\t\\t\\t\\t    售價:547<br>\\n\\t\\t\\t\\t\\t    產品相關資訊:安迪．威爾<br>\\n\\t\\t\\t\\t\\t\\t產品說明:火星任務+月球城市<br>\\n', 'enclosure': {}, 'categories': ['安迪．威爾']}, {'title': 'Peter Su愛夢想珍藏雙書套組 (2冊合售)', 'pubDate': '2018-10-30 00:00:00', 'link': 'http://www.eslite.com/product.aspx?pgid=1001119732713206', 'guid': '1001119732713206', 'author': '', 'thumbnail': 'http://pic.eslite.com/Upload/Product/201809/s/636725973606230000.jpg', 'description': '\\n<img src=\"http://pic.eslite.com/Upload/Product/201809/s/636725973606230000.jpg\" width=\"90px\" height=\"120px\"><br><span class=\"price_sale\">72</span>折, \\n\\t\\t\\t\\t\\t    售價:461<br>\\n\\t\\t\\t\\t\\t    產品相關資訊:Peter Su<br>\\n\\t\\t\\t\\t\\t\\t產品說明:夢想這條路踏上了, 跪著也要走完+愛: 即使世界不斷讓你失望, 也要繼續相信愛<br>\\n', 'content': '\\n<img src=\"http://pic.eslite.com/Upload/Product/201809/s/636725973606230000.jpg\" width=\"90px\" height=\"120px\"><br><span class=\"price_sale\">72</span>折, \\n\\t\\t\\t\\t\\t    售價:461<br>\\n\\t\\t\\t\\t\\t    產品相關資訊:Peter Su<br>\\n\\t\\t\\t\\t\\t\\t產品說明:夢想這條路踏上了, 跪著也要走完+愛: 即使世界不斷讓你失望, 也要繼續相信愛<br>\\n', 'enclosure': {}, 'categories': ['Peter Su']}]}\n"
     ]
    }
   ],
   "source": [
    "print(eslite_list)"
   ]
  },
  {
   "cell_type": "markdown",
   "metadata": {},
   "source": [
    "## 取值\n",
    "- 一個json的結構，大約是這樣的方式儲存\n",
    "![](https://i.imgur.com/Ai4BZ4L.png)\n"
   ]
  },
  {
   "cell_type": "code",
   "execution_count": 4,
   "metadata": {},
   "outputs": [
    {
     "name": "stdout",
     "output_type": "stream",
     "text": [
      "ok\n"
     ]
    }
   ],
   "source": [
    "print(eslite_list['status'])"
   ]
  },
  {
   "cell_type": "code",
   "execution_count": 6,
   "metadata": {},
   "outputs": [
    {
     "name": "stdout",
     "output_type": "stream",
     "text": [
      "{'url': 'http://www.eslite.com/rss.aspx?Cate=156&Rssdata=lowest', 'title': '誠品網路書店：中文書本日最低價', 'link': 'http://www.eslite.com/', 'author': '', 'description': '誠品網路書店：中文書本日最低價', 'image': 'http://pic.eslite.com/Upload/Product/201810/s/636753621529578750.jpg'}\n"
     ]
    }
   ],
   "source": [
    "print(eslite_list['feed'])"
   ]
  },
  {
   "cell_type": "code",
   "execution_count": 7,
   "metadata": {},
   "outputs": [
    {
     "name": "stdout",
     "output_type": "stream",
     "text": [
      "[{'title': '新漢字世代: 亞洲字體設計新美學', 'pubDate': '2018-10-30 00:00:00', 'link': 'http://www.eslite.com/product.aspx?pgid=1001113882720073', 'guid': '1001113882720073', 'author': '', 'thumbnail': 'http://pic.eslite.com/Upload/Product/201810/s/636753621529578750.jpg', 'description': '\\n<img src=\"http://pic.eslite.com/Upload/Product/201810/s/636753621529578750.jpg\" width=\"90px\" height=\"120px\"><br><span class=\"price_sale\">75</span>折, \\n\\t\\t\\t\\t\\t    售價:465<br>\\n\\t\\t\\t\\t\\t    產品相關資訊:Sandu<br>\\n\\t\\t\\t\\t\\t\\t產品說明:<br>\\n', 'content': '\\n<img src=\"http://pic.eslite.com/Upload/Product/201810/s/636753621529578750.jpg\" width=\"90px\" height=\"120px\"><br><span class=\"price_sale\">75</span>折, \\n\\t\\t\\t\\t\\t    售價:465<br>\\n\\t\\t\\t\\t\\t    產品相關資訊:Sandu<br>\\n\\t\\t\\t\\t\\t\\t產品說明:<br>\\n', 'enclosure': {}, 'categories': ['Sandu']}, {'title': '全球最熱門思想家塔雷伯經典套書: 不確定五部曲 (5冊合售)', 'pubDate': '2018-10-30 00:00:00', 'link': 'http://www.eslite.com/product.aspx?pgid=1001129722720140', 'guid': '1001129722720140', 'author': '', 'thumbnail': 'http://pic.eslite.com/Upload/Product/201810/s/636754482614687500.jpg', 'description': '\\n<img src=\"http://pic.eslite.com/Upload/Product/201810/s/636754482614687500.jpg\" width=\"90px\" height=\"120px\"><br><span class=\"price_sale\">75</span>折, \\n\\t\\t\\t\\t\\t    售價:1500<br>\\n\\t\\t\\t\\t\\t    產品相關資訊:納西姆．尼可拉斯．塔雷伯<br>\\n\\t\\t\\t\\t\\t\\t產品說明:隨機騙局: 潛藏在生活與市場中的機率陷阱/ 黑天鵝效應/ 黑天鵝語錄: 隨機世界的生存指南, 未知事物的應對之道/ 反脆弱: 脆弱的反義詞不是堅強, 是反脆弱/ 不對稱陷阱: 當別人的風險變成你的#<br>\\n', 'content': '\\n<img src=\"http://pic.eslite.com/Upload/Product/201810/s/636754482614687500.jpg\" width=\"90px\" height=\"120px\"><br><span class=\"price_sale\">75</span>折, \\n\\t\\t\\t\\t\\t    售價:1500<br>\\n\\t\\t\\t\\t\\t    產品相關資訊:納西姆．尼可拉斯．塔雷伯<br>\\n\\t\\t\\t\\t\\t\\t產品說明:隨機騙局: 潛藏在生活與市場中的機率陷阱/ 黑天鵝效應/ 黑天鵝語錄: 隨機世界的生存指南, 未知事物的應對之道/ 反脆弱: 脆弱的反義詞不是堅強, 是反脆弱/ 不對稱陷阱: 當別人的風險變成你的#<br>\\n', 'enclosure': {}, 'categories': ['納西姆．尼可拉斯．塔雷伯']}, {'title': '王鼎鈞的作文經典雙書: 作文七巧+作文十九問 (2冊合售)', 'pubDate': '2018-10-30 00:00:00', 'link': 'http://www.eslite.com/product.aspx?pgid=1001128312718850', 'guid': '1001128312718850', 'author': '', 'thumbnail': 'http://pic.eslite.com/Upload/Product/201810/s/636749298799738750.jpg', 'description': '\\n<img src=\"http://pic.eslite.com/Upload/Product/201810/s/636749298799738750.jpg\" width=\"90px\" height=\"120px\"><br><span class=\"price_sale\">75</span>折, \\n\\t\\t\\t\\t\\t    售價:555<br>\\n\\t\\t\\t\\t\\t    產品相關資訊:王鼎鈞<br>\\n\\t\\t\\t\\t\\t\\t產品說明:<br>\\n', 'content': '\\n<img src=\"http://pic.eslite.com/Upload/Product/201810/s/636749298799738750.jpg\" width=\"90px\" height=\"120px\"><br><span class=\"price_sale\">75</span>折, \\n\\t\\t\\t\\t\\t    售價:555<br>\\n\\t\\t\\t\\t\\t    產品相關資訊:王鼎鈞<br>\\n\\t\\t\\t\\t\\t\\t產品說明:<br>\\n', 'enclosure': {}, 'categories': ['王鼎鈞']}, {'title': '并州迷霧+風雪邊關 (2冊合售)', 'pubDate': '2018-10-30 00:00:00', 'link': 'http://www.eslite.com/product.aspx?pgid=1001131182718806', 'guid': '1001131182718806', 'author': '', 'thumbnail': 'http://pic.eslite.com/Upload/Product/201810/s/636749298602863750.jpg', 'description': '\\n<img src=\"http://pic.eslite.com/Upload/Product/201810/s/636749298602863750.jpg\" width=\"90px\" height=\"120px\"><br><span class=\"price_sale\">75</span>折, \\n\\t\\t\\t\\t\\t    售價:555<br>\\n\\t\\t\\t\\t\\t    產品相關資訊:唐隱<br>\\n\\t\\t\\t\\t\\t\\t產品說明:<br>\\n', 'content': '\\n<img src=\"http://pic.eslite.com/Upload/Product/201810/s/636749298602863750.jpg\" width=\"90px\" height=\"120px\"><br><span class=\"price_sale\">75</span>折, \\n\\t\\t\\t\\t\\t    售價:555<br>\\n\\t\\t\\t\\t\\t    產品相關資訊:唐隱<br>\\n\\t\\t\\t\\t\\t\\t產品說明:<br>\\n', 'enclosure': {}, 'categories': ['唐隱']}, {'title': '穿越時空的英國生活史: 漫遊中古英格蘭+漫遊伊莉莎白女皇的英格蘭+漫遊十七世紀古英國 (3冊合售)', 'pubDate': '2018-10-30 00:00:00', 'link': 'http://www.eslite.com/product.aspx?pgid=1001110932715980', 'guid': '1001110932715980', 'author': '', 'thumbnail': 'http://pic.eslite.com/Upload/Product/201809/s/636737205117166250.jpg', 'description': '\\n<img src=\"http://pic.eslite.com/Upload/Product/201809/s/636737205117166250.jpg\" width=\"90px\" height=\"120px\"><br><span class=\"price_sale\">7</span>折, \\n\\t\\t\\t\\t\\t    售價:1176<br>\\n\\t\\t\\t\\t\\t    產品相關資訊:伊恩．莫蒂默<br>\\n\\t\\t\\t\\t\\t\\t產品說明:<br>\\n', 'content': '\\n<img src=\"http://pic.eslite.com/Upload/Product/201809/s/636737205117166250.jpg\" width=\"90px\" height=\"120px\"><br><span class=\"price_sale\">7</span>折, \\n\\t\\t\\t\\t\\t    售價:1176<br>\\n\\t\\t\\t\\t\\t    產品相關資訊:伊恩．莫蒂默<br>\\n\\t\\t\\t\\t\\t\\t產品說明:<br>\\n', 'enclosure': {}, 'categories': ['伊恩．莫蒂默']}, {'title': 'New全彩漫畫世界歷史 1-12+人物學習事典+世界遺產學習事典 (附New全彩世界歷史大事紀對照年表/14冊合售)', 'pubDate': '2018-10-30 00:00:00', 'link': 'http://www.eslite.com/product.aspx?pgid=1003258502715977', 'guid': '1003258502715977', 'author': '', 'thumbnail': 'http://pic.eslite.com/Upload/Product/201809/s/636737205087947500.jpg', 'description': '\\n<img src=\"http://pic.eslite.com/Upload/Product/201809/s/636737205087947500.jpg\" width=\"90px\" height=\"120px\"><br><span class=\"price_sale\">75</span>折, \\n\\t\\t\\t\\t\\t    售價:5025<br>\\n\\t\\t\\t\\t\\t    產品相關資訊:南房秀久/ 澤邊有司/ 原作; 近藤二郎/ 日本NPO法人世界遺產Academy/ 監修<br>\\n\\t\\t\\t\\t\\t\\t產品說明:New全彩漫畫世界歷史:史前時代與古代近東/希臘、羅馬與地中海世界/亞洲古代文明與東亞世界的建立/伊斯蘭世界與歐洲世界的建立/十字軍與蒙古帝國/文藝復興與大航海時代/法國大革命與工業革命/美國獨立與南北戰爭/列強的世界殖民與亞洲的民族運動<br>\\n', 'content': '\\n<img src=\"http://pic.eslite.com/Upload/Product/201809/s/636737205087947500.jpg\" width=\"90px\" height=\"120px\"><br><span class=\"price_sale\">75</span>折, \\n\\t\\t\\t\\t\\t    售價:5025<br>\\n\\t\\t\\t\\t\\t    產品相關資訊:南房秀久/ 澤邊有司/ 原作; 近藤二郎/ 日本NPO法人世界遺產Academy/ 監修<br>\\n\\t\\t\\t\\t\\t\\t產品說明:New全彩漫畫世界歷史:史前時代與古代近東/希臘、羅馬與地中海世界/亞洲古代文明與東亞世界的建立/伊斯蘭世界與歐洲世界的建立/十字軍與蒙古帝國/文藝復興與大航海時代/法國大革命與工業革命/美國獨立與南北戰爭/列強的世界殖民與亞洲的民族運動<br>\\n', 'enclosure': {}, 'categories': ['南房秀久/ 澤邊有司/ 原作; 近藤二郎/ 日本NPO法人世界遺產Academy/ 監修']}, {'title': '家事斷捨離: 第一本打破收納迷思、讓每個人都能不必特別花時間就做好家事的減法生活書!', 'pubDate': '2018-10-30 00:00:00', 'link': 'http://www.eslite.com/product.aspx?pgid=1001129562715840', 'guid': '1001129562715840', 'author': '', 'thumbnail': 'http://pic.eslite.com/Upload/Product/201809/s/636737203180760000.jpg', 'description': '\\n<img src=\"http://pic.eslite.com/Upload/Product/201809/s/636737203180760000.jpg\" width=\"90px\" height=\"120px\"><br><span class=\"price_sale\">75</span>折, \\n\\t\\t\\t\\t\\t    售價:240<br>\\n\\t\\t\\t\\t\\t    產品相關資訊:山下英子<br>\\n\\t\\t\\t\\t\\t\\t產品說明:<br>\\n', 'content': '\\n<img src=\"http://pic.eslite.com/Upload/Product/201809/s/636737203180760000.jpg\" width=\"90px\" height=\"120px\"><br><span class=\"price_sale\">75</span>折, \\n\\t\\t\\t\\t\\t    售價:240<br>\\n\\t\\t\\t\\t\\t    產品相關資訊:山下英子<br>\\n\\t\\t\\t\\t\\t\\t產品說明:<br>\\n', 'enclosure': {}, 'categories': ['山下英子']}, {'title': '張曼娟文學繪本系列 (3冊合售)', 'pubDate': '2018-10-30 00:00:00', 'link': 'http://www.eslite.com/product.aspx?pgid=1003276712715264', 'guid': '1003276712715264', 'author': '', 'thumbnail': 'http://pic.eslite.com/Upload/Product/201810/s/636759892974897500.jpg', 'description': '\\n<img src=\"http://pic.eslite.com/Upload/Product/201810/s/636759892974897500.jpg\" width=\"90px\" height=\"120px\"><br><span class=\"price_sale\">75</span>折, \\n\\t\\t\\t\\t\\t    售價:945<br>\\n\\t\\t\\t\\t\\t    產品相關資訊:張曼娟/ 孫梓評/ 張維中<br>\\n\\t\\t\\t\\t\\t\\t產品說明:星星碼頭/ 麒麟湯/ 碳酸男孩<br>\\n', 'content': '\\n<img src=\"http://pic.eslite.com/Upload/Product/201810/s/636759892974897500.jpg\" width=\"90px\" height=\"120px\"><br><span class=\"price_sale\">75</span>折, \\n\\t\\t\\t\\t\\t    售價:945<br>\\n\\t\\t\\t\\t\\t    產品相關資訊:張曼娟/ 孫梓評/ 張維中<br>\\n\\t\\t\\t\\t\\t\\t產品說明:星星碼頭/ 麒麟湯/ 碳酸男孩<br>\\n', 'enclosure': {}, 'categories': ['張曼娟/ 孫梓評/ 張維中']}, {'title': '安迪．威爾科幻套組 (2冊合售)', 'pubDate': '2018-10-30 00:00:00', 'link': 'http://www.eslite.com/product.aspx?pgid=1001119732713207', 'guid': '1001119732713207', 'author': '', 'thumbnail': 'http://pic.eslite.com/Upload/Product/201809/s/636725973643730000.jpg', 'description': '\\n<img src=\"http://pic.eslite.com/Upload/Product/201809/s/636725973643730000.jpg\" width=\"90px\" height=\"120px\"><br><span class=\"price_sale\">72</span>折, \\n\\t\\t\\t\\t\\t    售價:547<br>\\n\\t\\t\\t\\t\\t    產品相關資訊:安迪．威爾<br>\\n\\t\\t\\t\\t\\t\\t產品說明:火星任務+月球城市<br>\\n', 'content': '\\n<img src=\"http://pic.eslite.com/Upload/Product/201809/s/636725973643730000.jpg\" width=\"90px\" height=\"120px\"><br><span class=\"price_sale\">72</span>折, \\n\\t\\t\\t\\t\\t    售價:547<br>\\n\\t\\t\\t\\t\\t    產品相關資訊:安迪．威爾<br>\\n\\t\\t\\t\\t\\t\\t產品說明:火星任務+月球城市<br>\\n', 'enclosure': {}, 'categories': ['安迪．威爾']}, {'title': 'Peter Su愛夢想珍藏雙書套組 (2冊合售)', 'pubDate': '2018-10-30 00:00:00', 'link': 'http://www.eslite.com/product.aspx?pgid=1001119732713206', 'guid': '1001119732713206', 'author': '', 'thumbnail': 'http://pic.eslite.com/Upload/Product/201809/s/636725973606230000.jpg', 'description': '\\n<img src=\"http://pic.eslite.com/Upload/Product/201809/s/636725973606230000.jpg\" width=\"90px\" height=\"120px\"><br><span class=\"price_sale\">72</span>折, \\n\\t\\t\\t\\t\\t    售價:461<br>\\n\\t\\t\\t\\t\\t    產品相關資訊:Peter Su<br>\\n\\t\\t\\t\\t\\t\\t產品說明:夢想這條路踏上了, 跪著也要走完+愛: 即使世界不斷讓你失望, 也要繼續相信愛<br>\\n', 'content': '\\n<img src=\"http://pic.eslite.com/Upload/Product/201809/s/636725973606230000.jpg\" width=\"90px\" height=\"120px\"><br><span class=\"price_sale\">72</span>折, \\n\\t\\t\\t\\t\\t    售價:461<br>\\n\\t\\t\\t\\t\\t    產品相關資訊:Peter Su<br>\\n\\t\\t\\t\\t\\t\\t產品說明:夢想這條路踏上了, 跪著也要走完+愛: 即使世界不斷讓你失望, 也要繼續相信愛<br>\\n', 'enclosure': {}, 'categories': ['Peter Su']}]\n"
     ]
    }
   ],
   "source": [
    "print(eslite_list['items'])"
   ]
  },
  {
   "cell_type": "markdown",
   "metadata": {},
   "source": [
    "### 字串中尋找字\n",
    "- 搜尋關鍵字的方法，這邊用的是python標準函式庫中的find\n",
    "- 他會回傳關鍵字出現的第一位置\n",
    "> \n",
    "> string.find(value, start, end)"
   ]
  },
  {
   "cell_type": "code",
   "execution_count": 10,
   "metadata": {},
   "outputs": [
    {
     "name": "stdout",
     "output_type": "stream",
     "text": [
      "7\n"
     ]
    }
   ],
   "source": [
    "txt = \"Hello, welcome to my world.\"\n",
    "      #01234567^\n",
    "x = txt.find(\"welcome\")\n",
    "        #using find to find object's position\n",
    "print(x)"
   ]
  },
  {
   "cell_type": "markdown",
   "metadata": {},
   "source": [
    "### 應用find函數\n",
    "- 透過for迴圈，針對每一個items中的title作搜尋\n",
    "- 而第一個if，判斷如果在字串中找不到關鍵字就作pass ( 空值Null= -1)\n",
    "- else則是印出title"
   ]
  },
  {
   "cell_type": "code",
   "execution_count": 8,
   "metadata": {
    "scrolled": true
   },
   "outputs": [
    {
     "name": "stdout",
     "output_type": "stream",
     "text": [
      "新漢字世代: 亞洲字體設計新美學\n",
      "全球最熱門思想家塔雷伯經典套書: 不確定五部曲 (5冊合售)\n",
      "王鼎鈞的作文經典雙書: 作文七巧+作文十九問 (2冊合售)\n",
      "并州迷霧+風雪邊關 (2冊合售)\n",
      "穿越時空的英國生活史: 漫遊中古英格蘭+漫遊伊莉莎白女皇的英格蘭+漫遊十七世紀古英國 (3冊合售)\n",
      "New全彩漫畫世界歷史 1-12+人物學習事典+世界遺產學習事典 (附New全彩世界歷史大事紀對照年表/14冊合售)\n",
      "家事斷捨離: 第一本打破收納迷思、讓每個人都能不必特別花時間就做好家事的減法生活書!\n",
      "張曼娟文學繪本系列 (3冊合售)\n",
      "安迪．威爾科幻套組 (2冊合售)\n",
      "Peter Su愛夢想珍藏雙書套組 (2冊合售)\n"
     ]
    }
   ],
   "source": [
    "for i in eslite_list['items']:\n",
    "    if i ['title'].find(\"\")==-1:\n",
    "        pass\n",
    "    else:\n",
    "        print(i['title'])"
   ]
  },
  {
   "cell_type": "code",
   "execution_count": 11,
   "metadata": {},
   "outputs": [],
   "source": [
    "def find_bookls(kw):\n",
    "    with open(\"ESLITE.json\",'r') as load_f:\n",
    "        load_dict = json.load(load_f)\n",
    "    x = load_dict['items']\n",
    "    ans = ()\n",
    "    for i in x:\n",
    "        #if i['title'] == \"title\":\n",
    "        if i['title'].find(str(kw))== -1:\n",
    "            pass\n",
    "#             print(\"\")\n",
    "        else:\n",
    "            ans= (i['title']+i['link'])\n",
    "#             print (i['title'], i['link'])\n",
    "    return ans"
   ]
  },
  {
   "cell_type": "code",
   "execution_count": 12,
   "metadata": {},
   "outputs": [
    {
     "data": {
      "text/plain": [
       "'New全彩漫畫世界歷史 1-12+人物學習事典+世界遺產學習事典 (附New全彩世界歷史大事紀對照年表/14冊合售)http://www.eslite.com/product.aspx?pgid=1003258502715977'"
      ]
     },
     "execution_count": 12,
     "metadata": {},
     "output_type": "execute_result"
    }
   ],
   "source": [
    "find_bookls(\"世界歷史\")"
   ]
  }
 ],
 "metadata": {
  "kernelspec": {
   "display_name": "Python 3",
   "language": "python",
   "name": "python3"
  },
  "language_info": {
   "codemirror_mode": {
    "name": "ipython",
    "version": 3
   },
   "file_extension": ".py",
   "mimetype": "text/x-python",
   "name": "python",
   "nbconvert_exporter": "python",
   "pygments_lexer": "ipython3",
   "version": "3.6.5"
  }
 },
 "nbformat": 4,
 "nbformat_minor": 2
}
